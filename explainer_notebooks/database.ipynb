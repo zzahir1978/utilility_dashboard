{
 "cells": [
  {
   "cell_type": "code",
   "execution_count": 1,
   "id": "30413aa4",
   "metadata": {},
   "outputs": [],
   "source": [
    "from deta import Deta\n",
    "import pandas as pd\n",
    "import json\n",
    "from pandas import json_normalize\n",
    "from collections import Counter"
   ]
  },
  {
   "cell_type": "code",
   "execution_count": 2,
   "id": "bdace43d",
   "metadata": {},
   "outputs": [],
   "source": [
    "DETA_KEY = \"c0jo61nr_BhSm5qHprUP75vRSdEmumYfoS1KMCtQW\"\n",
    "\n",
    "# Initialize with a project key\n",
    "deta = Deta(DETA_KEY)\n",
    "\n",
    "# This is how to create/connect a database\n",
    "db = deta.Base(\"utilities_reports\")"
   ]
  },
  {
   "cell_type": "code",
   "execution_count": 3,
   "id": "d65bd157",
   "metadata": {},
   "outputs": [],
   "source": [
    "def insert_period(period, e_usages, e_costs, w_usages, w_costs, digi_zahirs, digi_anis, \n",
    "                  streamyxs, comment):\n",
    "    \"\"\"Returns the user on a successful user creation, otherwise raises and error\"\"\"\n",
    "    return db.put({\"key\": period, \"e_usage\": e_usages, \"e_cost\": e_costs, \n",
    "                   \"w_usage\": w_usages, \"w_cost\": w_costs, \"digi_zahir\": digi_zahirs, \n",
    "                   \"digi_ani\": digi_anis, \"streamyx\": streamyxs, \"comment\": comment})\n",
    "\n",
    "def fetch_all_periods():\n",
    "    \"\"\"Returns a dict of all periods\"\"\"\n",
    "    res = db.fetch()\n",
    "    return res.items\n",
    "\n",
    "\n",
    "def get_period(period):\n",
    "    \"\"\"If not found, the function will return None\"\"\"\n",
    "    return db.get(period)"
   ]
  },
  {
   "cell_type": "code",
   "execution_count": 19,
   "id": "b532ec9b",
   "metadata": {},
   "outputs": [
    {
     "data": {
      "text/plain": [
       "{'comment': '',\n",
       " 'digi_ani': {'RM_d2': 0},\n",
       " 'digi_zahir': {'RM_d1': 0},\n",
       " 'e_cost': {'RM_e': 84.8},\n",
       " 'e_usage': {'kWh': 341},\n",
       " 'key': '2020_December',\n",
       " 'streamyx': {'RM_s': 147.35},\n",
       " 'w_cost': {'RM_w': 18.6},\n",
       " 'w_usage': {'m3': 27}}"
      ]
     },
     "execution_count": 19,
     "metadata": {},
     "output_type": "execute_result"
    }
   ],
   "source": [
    "# Example Data\n",
    "period = \"2020_December\"\n",
    "comment = \"\"\n",
    "e_usages = {\"kWh\": 341}\n",
    "e_costs = {\"RM_e\": 84.8}\n",
    "w_usages = {\"m3\": 27}\n",
    "w_costs = {\"RM_w\": 18.6}\n",
    "digi_zahirs = {\"RM_d1\": 0}\n",
    "digi_anis = {\"RM_d2\": 0}\n",
    "streamyxs = {\"RM_s\": 147.35}\n",
    "insert_period(period, e_usages, e_costs, w_usages, w_costs, digi_zahirs, digi_anis, streamyxs, comment)"
   ]
  },
  {
   "cell_type": "code",
   "execution_count": 5,
   "id": "3eb09e20",
   "metadata": {},
   "outputs": [
    {
     "data": {
      "text/plain": [
       "dict_values(['Test', {'RM_d2': 100}, {'RM_d1': 100}, {'RM_e': 100}, {'kWh': 100}, '2022_January', {'RM_s': 100}, {'RM_w': 100}, {'m3': 100}])"
      ]
     },
     "execution_count": 5,
     "metadata": {},
     "output_type": "execute_result"
    }
   ],
   "source": [
    "r = db.get('2022_January').values()\n",
    "r"
   ]
  },
  {
   "cell_type": "code",
   "execution_count": 6,
   "id": "f3153391",
   "metadata": {},
   "outputs": [],
   "source": [
    "#total_e_usage = sum([sum(entry['e_usage'].values()) for entry in entries])\n",
    "#total_e_cost = sum([sum(entry['e_cost'].values()) for entry in entries])\n",
    "#total_w_usage = sum([sum(entry['w_usage'].values()) for entry in entries])\n",
    "#total_w_cost = sum([sum(entry['w_cost'].values()) for entry in entries])"
   ]
  },
  {
   "cell_type": "code",
   "execution_count": 18,
   "id": "b037ce91",
   "metadata": {},
   "outputs": [
    {
     "data": {
      "text/html": [
       "<div>\n",
       "<style scoped>\n",
       "    .dataframe tbody tr th:only-of-type {\n",
       "        vertical-align: middle;\n",
       "    }\n",
       "\n",
       "    .dataframe tbody tr th {\n",
       "        vertical-align: top;\n",
       "    }\n",
       "\n",
       "    .dataframe thead th {\n",
       "        text-align: right;\n",
       "    }\n",
       "</style>\n",
       "<table border=\"1\" class=\"dataframe\">\n",
       "  <thead>\n",
       "    <tr style=\"text-align: right;\">\n",
       "      <th></th>\n",
       "      <th>digi_ani</th>\n",
       "      <th>digi_zahir</th>\n",
       "      <th>e_cost</th>\n",
       "      <th>e_usage</th>\n",
       "      <th>streamyx</th>\n",
       "      <th>w_cost</th>\n",
       "      <th>w_usage</th>\n",
       "      <th>year</th>\n",
       "      <th>month</th>\n",
       "    </tr>\n",
       "  </thead>\n",
       "  <tbody>\n",
       "    <tr>\n",
       "      <th>0</th>\n",
       "      <td>{'RM_d2': 123}</td>\n",
       "      <td>{'RM_d1': 123}</td>\n",
       "      <td>{'RM_e': 123}</td>\n",
       "      <td>{'kWh': 123}</td>\n",
       "      <td>{'RM_s': 123}</td>\n",
       "      <td>{'RM_w': 123}</td>\n",
       "      <td>{'m3': 123}</td>\n",
       "      <td>2022</td>\n",
       "      <td>February</td>\n",
       "    </tr>\n",
       "    <tr>\n",
       "      <th>1</th>\n",
       "      <td>{'RM_d2': 100}</td>\n",
       "      <td>{'RM_d1': 100}</td>\n",
       "      <td>{'RM_e': 100}</td>\n",
       "      <td>{'kWh': 100}</td>\n",
       "      <td>{'RM_s': 100}</td>\n",
       "      <td>{'RM_w': 100}</td>\n",
       "      <td>{'m3': 100}</td>\n",
       "      <td>2022</td>\n",
       "      <td>January</td>\n",
       "    </tr>\n",
       "  </tbody>\n",
       "</table>\n",
       "</div>"
      ],
      "text/plain": [
       "         digi_ani      digi_zahir         e_cost       e_usage       streamyx  \\\n",
       "0  {'RM_d2': 123}  {'RM_d1': 123}  {'RM_e': 123}  {'kWh': 123}  {'RM_s': 123}   \n",
       "1  {'RM_d2': 100}  {'RM_d1': 100}  {'RM_e': 100}  {'kWh': 100}  {'RM_s': 100}   \n",
       "\n",
       "          w_cost      w_usage  year     month  \n",
       "0  {'RM_w': 123}  {'m3': 123}  2022  February  \n",
       "1  {'RM_w': 100}  {'m3': 100}  2022   January  "
      ]
     },
     "execution_count": 18,
     "metadata": {},
     "output_type": "execute_result"
    }
   ],
   "source": [
    "entries = fetch_all_periods()\n",
    "df = json.dumps(entries)\n",
    "df = pd.read_json(df)\n",
    "df['key'] = df['key'].str.replace('_',' ')\n",
    "df_1 = df['key'].str.split(' ', 1, expand=True)\n",
    "df = pd.concat([df,df_1],axis=1)\n",
    "df = df[['digi_ani','digi_zahir','e_cost','e_usage','streamyx','w_cost','w_usage',0,1]]\n",
    "df = df.rename(columns={0:'year',1:'month'})\n",
    "df_2023 = df[df.year == '2023']\n",
    "df_2022 = df[df.year == '2022']\n",
    "df_2022"
   ]
  },
  {
   "cell_type": "code",
   "execution_count": 27,
   "id": "ef60dd78",
   "metadata": {},
   "outputs": [
    {
     "data": {
      "text/plain": [
       "0    223\n",
       "Name: e_cost, dtype: int64"
      ]
     },
     "execution_count": 27,
     "metadata": {},
     "output_type": "execute_result"
    }
   ],
   "source": [
    "df_ecost_2022 = df_2022['e_cost'].map(Counter).groupby(df['year']).sum().reset_index()\n",
    "\n",
    "#df_ecost_2022 = df_ecost_2022.to_dict()\n",
    "s = df_ecost_2022['e_cost'].apply(lambda x: x.get('RM_e')).dropna()\n",
    "s"
   ]
  },
  {
   "cell_type": "code",
   "execution_count": 29,
   "id": "30554fc3",
   "metadata": {},
   "outputs": [
    {
     "data": {
      "text/html": [
       "<div>\n",
       "<style scoped>\n",
       "    .dataframe tbody tr th:only-of-type {\n",
       "        vertical-align: middle;\n",
       "    }\n",
       "\n",
       "    .dataframe tbody tr th {\n",
       "        vertical-align: top;\n",
       "    }\n",
       "\n",
       "    .dataframe thead th {\n",
       "        text-align: right;\n",
       "    }\n",
       "</style>\n",
       "<table border=\"1\" class=\"dataframe\">\n",
       "  <thead>\n",
       "    <tr style=\"text-align: right;\">\n",
       "      <th></th>\n",
       "      <th>digi_ani</th>\n",
       "      <th>digi_zahir</th>\n",
       "      <th>e_cost</th>\n",
       "      <th>e_usage</th>\n",
       "      <th>streamyx</th>\n",
       "      <th>w_cost</th>\n",
       "      <th>w_usage</th>\n",
       "      <th>year</th>\n",
       "      <th>month</th>\n",
       "    </tr>\n",
       "  </thead>\n",
       "  <tbody>\n",
       "    <tr>\n",
       "      <th>0</th>\n",
       "      <td>{'RM_d2': 123}</td>\n",
       "      <td>{'RM_d1': 123}</td>\n",
       "      <td>{'RM_e': 123}</td>\n",
       "      <td>{'kWh': 123}</td>\n",
       "      <td>{'RM_s': 123}</td>\n",
       "      <td>{'RM_w': 123}</td>\n",
       "      <td>{'m3': 123}</td>\n",
       "      <td>2022</td>\n",
       "      <td>February</td>\n",
       "    </tr>\n",
       "    <tr>\n",
       "      <th>1</th>\n",
       "      <td>{'RM_d2': 100}</td>\n",
       "      <td>{'RM_d1': 100}</td>\n",
       "      <td>{'RM_e': 100}</td>\n",
       "      <td>{'kWh': 100}</td>\n",
       "      <td>{'RM_s': 100}</td>\n",
       "      <td>{'RM_w': 100}</td>\n",
       "      <td>{'m3': 100}</td>\n",
       "      <td>2022</td>\n",
       "      <td>January</td>\n",
       "    </tr>\n",
       "  </tbody>\n",
       "</table>\n",
       "</div>"
      ],
      "text/plain": [
       "         digi_ani      digi_zahir         e_cost       e_usage       streamyx  \\\n",
       "0  {'RM_d2': 123}  {'RM_d1': 123}  {'RM_e': 123}  {'kWh': 123}  {'RM_s': 123}   \n",
       "1  {'RM_d2': 100}  {'RM_d1': 100}  {'RM_e': 100}  {'kWh': 100}  {'RM_s': 100}   \n",
       "\n",
       "          w_cost      w_usage  year     month  \n",
       "0  {'RM_w': 123}  {'m3': 123}  2022  February  \n",
       "1  {'RM_w': 100}  {'m3': 100}  2022   January  "
      ]
     },
     "execution_count": 29,
     "metadata": {},
     "output_type": "execute_result"
    }
   ],
   "source": [
    "df_2022"
   ]
  },
  {
   "cell_type": "code",
   "execution_count": null,
   "id": "199119ac",
   "metadata": {},
   "outputs": [],
   "source": []
  }
 ],
 "metadata": {
  "kernelspec": {
   "display_name": "Python 3 (ipykernel)",
   "language": "python",
   "name": "python3"
  },
  "language_info": {
   "codemirror_mode": {
    "name": "ipython",
    "version": 3
   },
   "file_extension": ".py",
   "mimetype": "text/x-python",
   "name": "python",
   "nbconvert_exporter": "python",
   "pygments_lexer": "ipython3",
   "version": "3.9.7"
  }
 },
 "nbformat": 4,
 "nbformat_minor": 5
}

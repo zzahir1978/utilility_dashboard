{
 "cells": [
  {
   "cell_type": "code",
   "execution_count": 11,
   "id": "30413aa4",
   "metadata": {},
   "outputs": [],
   "source": [
    "from deta import Deta\n",
    "import pandas as pd\n",
    "#import json"
   ]
  },
  {
   "cell_type": "code",
   "execution_count": 16,
   "id": "bdace43d",
   "metadata": {},
   "outputs": [],
   "source": [
    "DETA_KEY = \"c0jo61nr_BhSm5qHprUP75vRSdEmumYfoS1KMCtQW\"\n",
    "\n",
    "# Initialize with a project key\n",
    "deta = Deta(DETA_KEY)\n",
    "\n",
    "# This is how to create/connect a database\n",
    "db = deta.Base(\"utilities_reports\")"
   ]
  },
  {
   "cell_type": "code",
   "execution_count": 17,
   "id": "d65bd157",
   "metadata": {},
   "outputs": [],
   "source": [
    "def insert_period(period, e_usages, e_costs, w_usages, w_costs, comment):\n",
    "    \"\"\"Returns the user on a successful user creation, otherwise raises and error\"\"\"\n",
    "    return db.put({\"key\": period, \"e_usage\": e_usages, \"e_cost\": e_costs, \n",
    "                   \"w_usage\": w_usages, \"w_cost\": w_costs, \"comment\": comment})\n",
    "\n",
    "\n",
    "def fetch_all_periods():\n",
    "    \"\"\"Returns a dict of all periods\"\"\"\n",
    "    res = db.fetch()\n",
    "    return res.items\n",
    "\n",
    "\n",
    "def get_period(period):\n",
    "    \"\"\"If not found, the function will return None\"\"\"\n",
    "    return db.get(period)"
   ]
  },
  {
   "cell_type": "code",
   "execution_count": 41,
   "id": "b532ec9b",
   "metadata": {},
   "outputs": [
    {
     "data": {
      "text/plain": [
       "{'comment': 'NA',\n",
       " 'e_cost': {'RM Electricity': 123.65},\n",
       " 'e_usage': {'kWh': 402},\n",
       " 'key': '2022_June',\n",
       " 'w_cost': {'RM Water': 13.4},\n",
       " 'w_usage': {'m3': 33}}"
      ]
     },
     "execution_count": 41,
     "metadata": {},
     "output_type": "execute_result"
    }
   ],
   "source": [
    "# Example Data\n",
    "period = \"2022_June\"\n",
    "comment = \"NA\"\n",
    "e_usages = {'kWh': 402}\n",
    "e_costs = {'RM Electricity': 123.65}\n",
    "w_usages = {'m3': 33}\n",
    "w_costs = {'RM Water': 13.4}\n",
    "insert_period(period, e_usages, e_costs, w_usages, w_costs, comment)"
   ]
  },
  {
   "cell_type": "code",
   "execution_count": null,
   "id": "3eb09e20",
   "metadata": {},
   "outputs": [],
   "source": [
    "#r = db.get('2022_January').values()"
   ]
  },
  {
   "cell_type": "code",
   "execution_count": 21,
   "id": "f3153391",
   "metadata": {},
   "outputs": [],
   "source": [
    "entries = fetch_all_periods()\n",
    "\n",
    "total_e_usage = sum([sum(entry['e_usage'].values()) for entry in entries])\n",
    "total_e_cost = sum([sum(entry['e_cost'].values()) for entry in entries])\n",
    "total_w_usage = sum([sum(entry['w_usage'].values()) for entry in entries])\n",
    "total_w_cost = sum([sum(entry['w_cost'].values()) for entry in entries])"
   ]
  },
  {
   "cell_type": "code",
   "execution_count": null,
   "id": "56f09f01",
   "metadata": {},
   "outputs": [],
   "source": []
  }
 ],
 "metadata": {
  "kernelspec": {
   "display_name": "Python 3 (ipykernel)",
   "language": "python",
   "name": "python3"
  },
  "language_info": {
   "codemirror_mode": {
    "name": "ipython",
    "version": 3
   },
   "file_extension": ".py",
   "mimetype": "text/x-python",
   "name": "python",
   "nbconvert_exporter": "python",
   "pygments_lexer": "ipython3",
   "version": "3.9.7"
  }
 },
 "nbformat": 4,
 "nbformat_minor": 5
}

{
 "cells": [
  {
   "cell_type": "code",
   "execution_count": 1,
   "id": "9d68dc7d",
   "metadata": {},
   "outputs": [
    {
     "name": "stderr",
     "output_type": "stream",
     "text": [
      "2022-06-30 15:03:15.062 INFO    numexpr.utils: NumExpr defaulting to 4 threads.\n"
     ]
    }
   ],
   "source": [
    "from deta import Deta\n",
    "import streamlit_authenticator as stauth"
   ]
  },
  {
   "cell_type": "code",
   "execution_count": 2,
   "id": "06f1e55a",
   "metadata": {},
   "outputs": [],
   "source": [
    "# Load the environment variables\n",
    "DETA_KEY = \"c0jo61nr_P1wSYy8XFqjnwgyeWUXqU635PWYK4A85\"\n",
    "\n",
    "# Initialize with a project key\n",
    "deta = Deta(DETA_KEY)\n",
    "\n",
    "# This is how to create/connect a database\n",
    "db = deta.Base(\"users_db\")"
   ]
  },
  {
   "cell_type": "code",
   "execution_count": 3,
   "id": "e4d86417",
   "metadata": {},
   "outputs": [],
   "source": [
    "def insert_user(username, name, password):\n",
    "    \"\"\"Returns the user on a successful user creation, otherwise raises and error\"\"\"\n",
    "    return db.put({\"key\": username, \"name\": name, \"password\": password})\n",
    "\n",
    "\n",
    "def fetch_all_users():\n",
    "    \"\"\"Returns a dict of all users\"\"\"\n",
    "    res = db.fetch()\n",
    "    return res.items\n",
    "\n",
    "\n",
    "def get_user(username):\n",
    "    \"\"\"If not found, the function will return None\"\"\"\n",
    "    return db.get(username)\n",
    "\n",
    "\n",
    "def update_user(username, updates):\n",
    "    \"\"\"If the item is updated, returns None. Otherwise, an exception is raised\"\"\"\n",
    "    return db.update(updates, username)\n",
    "\n",
    "\n",
    "def delete_user(username):\n",
    "    \"\"\"Always returns None, even if the key does not exist\"\"\"\n",
    "    return db.delete(username)"
   ]
  },
  {
   "cell_type": "code",
   "execution_count": 4,
   "id": "aa08236b",
   "metadata": {},
   "outputs": [],
   "source": [
    "usernames = [\"zzahir1978\"]\n",
    "names = [\"Zahiruddin Zahidanishah\"]\n",
    "passwords = [\"Zz@hir78\"]\n",
    "hashed_passwords = stauth.Hasher(passwords).generate()"
   ]
  },
  {
   "cell_type": "code",
   "execution_count": 5,
   "id": "fca8a51f",
   "metadata": {},
   "outputs": [],
   "source": [
    "for (username, name, hash_password) in zip(usernames, names, hashed_passwords):\n",
    "    insert_user(username, name, hash_password)"
   ]
  },
  {
   "cell_type": "code",
   "execution_count": 7,
   "id": "535113f4",
   "metadata": {},
   "outputs": [
    {
     "data": {
      "text/plain": [
       "[{'key': 'pparker',\n",
       "  'name': 'Peter Parker',\n",
       "  'password': '$2b$12$EcB/wB.hOlWqwLcwt9zhj.25P5XvMPFcK1jroSRl7rP3yWXZLqL6G'},\n",
       " {'key': 'rmiller',\n",
       "  'name': 'Rebecca Miller',\n",
       "  'password': '$2b$12$Dnl03j2.mcBQXxVKLjZY/uRxgVFdGmNgs8SUP9EYiJ8RvILjX.fPy'},\n",
       " {'key': 'zzahir1978',\n",
       "  'name': 'Zahiruddin Zahidanishah',\n",
       "  'password': '$2b$12$8KhoFzzPS42Lls65EbqLJu9KunYFqmOnEKjuntdpOqPTzomd9Ljhm'}]"
      ]
     },
     "execution_count": 7,
     "metadata": {},
     "output_type": "execute_result"
    }
   ],
   "source": [
    "users = fetch_all_users()\n",
    "users"
   ]
  },
  {
   "cell_type": "code",
   "execution_count": 8,
   "id": "adc266da",
   "metadata": {},
   "outputs": [],
   "source": [
    "usernames = [user[\"key\"] for user in users]\n",
    "names = [user[\"name\"] for user in users]\n",
    "hashed_passwords = [user[\"password\"] for user in users]"
   ]
  },
  {
   "cell_type": "code",
   "execution_count": 12,
   "id": "2cf8b3b8",
   "metadata": {},
   "outputs": [
    {
     "name": "stdout",
     "output_type": "stream",
     "text": [
      "['pparker', 'rmiller', 'zzahir1978']\n",
      "['Peter Parker', 'Rebecca Miller', 'Zahiruddin Zahidanishah']\n",
      "['$2b$12$EcB/wB.hOlWqwLcwt9zhj.25P5XvMPFcK1jroSRl7rP3yWXZLqL6G', '$2b$12$Dnl03j2.mcBQXxVKLjZY/uRxgVFdGmNgs8SUP9EYiJ8RvILjX.fPy', '$2b$12$8KhoFzzPS42Lls65EbqLJu9KunYFqmOnEKjuntdpOqPTzomd9Ljhm']\n"
     ]
    }
   ],
   "source": [
    "print(usernames)\n",
    "print(names)\n",
    "print(hashed_passwords)"
   ]
  },
  {
   "cell_type": "code",
   "execution_count": null,
   "id": "f92235af",
   "metadata": {},
   "outputs": [],
   "source": []
  }
 ],
 "metadata": {
  "kernelspec": {
   "display_name": "Python 3 (ipykernel)",
   "language": "python",
   "name": "python3"
  },
  "language_info": {
   "codemirror_mode": {
    "name": "ipython",
    "version": 3
   },
   "file_extension": ".py",
   "mimetype": "text/x-python",
   "name": "python",
   "nbconvert_exporter": "python",
   "pygments_lexer": "ipython3",
   "version": "3.9.7"
  }
 },
 "nbformat": 4,
 "nbformat_minor": 5
}

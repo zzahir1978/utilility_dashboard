{
 "cells": [
  {
   "cell_type": "code",
   "execution_count": 10,
   "id": "30413aa4",
   "metadata": {},
   "outputs": [],
   "source": [
    "from deta import Deta\n",
    "import pandas as pd\n",
    "import json\n",
    "from pandas import json_normalize\n",
    "from collections import Counter\n",
    "import plotly.graph_objects as go               \n",
    "import plotly.express as px                     \n",
    "from plotly.subplots import make_subplots\n",
    "import streamlit_authenticator as stauth"
   ]
  },
  {
   "cell_type": "code",
   "execution_count": 11,
   "id": "bdace43d",
   "metadata": {},
   "outputs": [],
   "source": [
    "DETA_KEY = \"c0jo61nr_BhSm5qHprUP75vRSdEmumYfoS1KMCtQW\"\n",
    "\n",
    "# Initialize with a project key\n",
    "deta = Deta(DETA_KEY)\n",
    "\n",
    "# This is how to create/connect a database\n",
    "db = deta.Base(\"test_db\")"
   ]
  },
  {
   "cell_type": "code",
   "execution_count": 12,
   "id": "d65bd157",
   "metadata": {},
   "outputs": [],
   "source": [
    "def insert_data(username, name, email,address,password,hashed_password,ic,remark):\n",
    "    \"\"\"Returns the user on a successful user creation, otherwise raises and error\"\"\"\n",
    "    return db.put({\"key\": username, \"name\": name, \"email\": email, \"address\": address, \"password\": password,\n",
    "                   \"hashed_password\": hashed_password, \"ic\": ic, \"remarks\": remark})\n",
    "\n",
    "def fetch_all_data():\n",
    "    \"\"\"Returns a dict of all periods\"\"\"\n",
    "    res = db.fetch()\n",
    "    return res.items\n",
    "\n",
    "def get_data(data):\n",
    "    \"\"\"If not found, the function will return None\"\"\"\n",
    "    return db.get(data)\n",
    "\n",
    "def update_data(username, updates):\n",
    "    \"\"\"If the item is updated, returns None. Otherwise, an exception is raised\"\"\"\n",
    "    return db.update(updates, username)\n",
    "\n",
    "def delete_user(username):\n",
    "    \"\"\"Always returns None, even if the key does not exist\"\"\"\n",
    "    return db.delete(username)"
   ]
  },
  {
   "cell_type": "code",
   "execution_count": 5,
   "id": "3eb09e20",
   "metadata": {},
   "outputs": [
    {
     "data": {
      "text/plain": [
       "dict_values(['Bandar Mahkota Cheras', 'zahiruddin.zahidanishah@gamil.com', 'A3938876', 'zzahir1978', 'Zahiruddin Zahidanishah', 'abc123', 'Test Data'])"
      ]
     },
     "execution_count": 5,
     "metadata": {},
     "output_type": "execute_result"
    }
   ],
   "source": [
    "r = db.get('zzahir1978').values()\n",
    "r"
   ]
  },
  {
   "cell_type": "code",
   "execution_count": 46,
   "id": "34474516",
   "metadata": {},
   "outputs": [
    {
     "data": {
      "text/plain": [
       "{'address': 'Bandar Mahkota Cheras',\n",
       " 'email': 'zzahir1978@gmail.com',\n",
       " 'hashed_password': ['$2b$12$gU7t3bJwY73JtLiUIAXy1uqsXd.GNPNOXwYc5wtwYbZ6AupNnokwO',\n",
       "  '$2b$12$uc06k.Z/MKk3fqy.wlzTP.BpplQ3H3su0UOibHgdhxYPXmezWv0VS',\n",
       "  '$2b$12$Ivaljr4DJSU8NxEbQuhXJuOy/oiRszzPkGtIwoI7p1YnLV45223MK',\n",
       "  '$2b$12$9aTGVjS3ngfF8uxN8N2Sxea.aI00jIcMDOzqpty2GIjlDysDn3lUS',\n",
       "  '$2b$12$VPIAcBm6e.x6qyg0/3cUo.U1CDLDvCVc3ExlG/kGdz2PBY19Dj3FK',\n",
       "  '$2b$12$SZqEDRnB.yi1tpays3p30uiC5FX/DQKlgCwQAIgf8ZQUrb54JOTMm'],\n",
       " 'ic': '780113086999',\n",
       " 'key': 'zzahir1978',\n",
       " 'name': 'Zahiruddin Zahidanishah',\n",
       " 'password': 'abc123',\n",
       " 'remarks': 'Test Data #1'}"
      ]
     },
     "execution_count": 46,
     "metadata": {},
     "output_type": "execute_result"
    }
   ],
   "source": [
    "# Insert Data\n",
    "username = 'zzahir1978'\n",
    "name = 'Zahiruddin Zahidanishah'\n",
    "email = 'zzahir1978@gmail.com'\n",
    "address = 'Bandar Mahkota Cheras'\n",
    "password = 'abc123'\n",
    "ic = '780113086999'\n",
    "remark = 'Test Data #1'\n",
    "hashed_password = stauth.Hasher(password).generate()\n",
    "insert_data(username, name, email,address,password,hashed_password,ic,remark)"
   ]
  },
  {
   "cell_type": "code",
   "execution_count": 47,
   "id": "61ddb204",
   "metadata": {},
   "outputs": [],
   "source": [
    "# Update Data\n",
    "username = 'zzahir1978'\n",
    "name = 'name'\n",
    "nam = 'Zahiruddin Bin Zahidanishah'\n",
    "email = 'email'\n",
    "ema = 'zahiruddin.zahidanishah@gmail.com'\n",
    "address = 'address'\n",
    "add = 'BMC Selangor'\n",
    "password = 'password'\n",
    "pas = 'def456'\n",
    "ic = 'ic'\n",
    "ics = \"780113086999\"\n",
    "remark = 'remarks'\n",
    "rem = 'Test Data #2'\n",
    "hashed_password = 'hashed_password'\n",
    "has = stauth.Hasher(password).generate()\n",
    "#hashed_password = stauth.Hasher(password).generate()\n",
    "#updates = {name, email,address,password,hashed_password,ic,remark}\n",
    "update_data(username, updates={name:nam, email:ema, address:add, password:pas, ic:ics, remark:rem, \n",
    "                               hashed_password:has})"
   ]
  },
  {
   "cell_type": "code",
   "execution_count": null,
   "id": "b7548371",
   "metadata": {},
   "outputs": [],
   "source": []
  }
 ],
 "metadata": {
  "kernelspec": {
   "display_name": "Python 3 (ipykernel)",
   "language": "python",
   "name": "python3"
  },
  "language_info": {
   "codemirror_mode": {
    "name": "ipython",
    "version": 3
   },
   "file_extension": ".py",
   "mimetype": "text/x-python",
   "name": "python",
   "nbconvert_exporter": "python",
   "pygments_lexer": "ipython3",
   "version": "3.9.7"
  }
 },
 "nbformat": 4,
 "nbformat_minor": 5
}

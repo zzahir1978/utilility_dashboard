{
 "cells": [
  {
   "cell_type": "code",
   "execution_count": 57,
   "id": "30413aa4",
   "metadata": {},
   "outputs": [],
   "source": [
    "from deta import Deta\n",
    "import pandas as pd\n",
    "import json\n",
    "from pandas import json_normalize\n",
    "from collections import Counter\n",
    "import plotly.graph_objects as go               # pip install plotly\n",
    "import plotly.express as px                     # pip install plotly-express\n",
    "from plotly.subplots import make_subplots"
   ]
  },
  {
   "cell_type": "code",
   "execution_count": 2,
   "id": "bdace43d",
   "metadata": {},
   "outputs": [],
   "source": [
    "DETA_KEY = \"c0jo61nr_BhSm5qHprUP75vRSdEmumYfoS1KMCtQW\"\n",
    "\n",
    "# Initialize with a project key\n",
    "deta = Deta(DETA_KEY)\n",
    "\n",
    "# This is how to create/connect a database\n",
    "db = deta.Base(\"utilities_reports\")"
   ]
  },
  {
   "cell_type": "code",
   "execution_count": 3,
   "id": "d65bd157",
   "metadata": {},
   "outputs": [],
   "source": [
    "def insert_period(period, e_usages, e_costs, w_usages, w_costs, digi_zahirs, digi_anis, \n",
    "                  streamyxs, comment):\n",
    "    \"\"\"Returns the user on a successful user creation, otherwise raises and error\"\"\"\n",
    "    return db.put({\"key\": period, \"e_usage\": e_usages, \"e_cost\": e_costs, \n",
    "                   \"w_usage\": w_usages, \"w_cost\": w_costs, \"digi_zahir\": digi_zahirs, \n",
    "                   \"digi_ani\": digi_anis, \"streamyx\": streamyxs, \"comment\": comment})\n",
    "\n",
    "def fetch_all_periods():\n",
    "    \"\"\"Returns a dict of all periods\"\"\"\n",
    "    res = db.fetch()\n",
    "    return res.items\n",
    "\n",
    "\n",
    "def get_period(period):\n",
    "    \"\"\"If not found, the function will return None\"\"\"\n",
    "    return db.get(period)"
   ]
  },
  {
   "cell_type": "code",
   "execution_count": 4,
   "id": "b532ec9b",
   "metadata": {},
   "outputs": [],
   "source": [
    "# Example Data\n",
    "#period = \"2014_December\"\n",
    "#comment = \"\"\n",
    "#e_usages = {\"kWh\": 337}\n",
    "#e_costs = {\"RM_e\": 86.34}\n",
    "#w_usages = {\"m3\": 0}\n",
    "#w_costs = {\"RM_w\": 0}\n",
    "#digi_zahirs = {\"RM_d1\": 0}\n",
    "#digi_anis = {\"RM_d2\": 0}\n",
    "#streamyxs = {\"RM_s\": 0}\n",
    "#insert_period(period, e_usages, e_costs, w_usages, w_costs, digi_zahirs, digi_anis, streamyxs, comment)"
   ]
  },
  {
   "cell_type": "code",
   "execution_count": 5,
   "id": "3eb09e20",
   "metadata": {},
   "outputs": [
    {
     "data": {
      "text/plain": [
       "dict_values(['', {'RM_d2': 20}, {'RM_d1': 30}, {'RM_e': 102}, {'kWh': 359}, '2022_January', {'RM_s': 147}, {'RM_w': 4}, {'m3': 24}])"
      ]
     },
     "execution_count": 5,
     "metadata": {},
     "output_type": "execute_result"
    }
   ],
   "source": [
    "r = db.get('2022_January').values()\n",
    "r"
   ]
  },
  {
   "cell_type": "code",
   "execution_count": 6,
   "id": "f3153391",
   "metadata": {},
   "outputs": [],
   "source": [
    "#total_e_usage = sum([sum(entry['e_usage'].values()) for entry in entries])\n",
    "#total_e_cost = sum([sum(entry['e_cost'].values()) for entry in entries])\n",
    "#total_w_usage = sum([sum(entry['w_usage'].values()) for entry in entries])\n",
    "#total_w_cost = sum([sum(entry['w_cost'].values()) for entry in entries])"
   ]
  },
  {
   "cell_type": "code",
   "execution_count": 19,
   "id": "b037ce91",
   "metadata": {},
   "outputs": [
    {
     "data": {
      "text/html": [
       "<div>\n",
       "<style scoped>\n",
       "    .dataframe tbody tr th:only-of-type {\n",
       "        vertical-align: middle;\n",
       "    }\n",
       "\n",
       "    .dataframe tbody tr th {\n",
       "        vertical-align: top;\n",
       "    }\n",
       "\n",
       "    .dataframe thead th {\n",
       "        text-align: right;\n",
       "    }\n",
       "</style>\n",
       "<table border=\"1\" class=\"dataframe\">\n",
       "  <thead>\n",
       "    <tr style=\"text-align: right;\">\n",
       "      <th></th>\n",
       "      <th>comment</th>\n",
       "      <th>digi_ani</th>\n",
       "      <th>digi_zahir</th>\n",
       "      <th>e_cost</th>\n",
       "      <th>e_usage</th>\n",
       "      <th>key</th>\n",
       "      <th>streamyx</th>\n",
       "      <th>w_cost</th>\n",
       "      <th>w_usage</th>\n",
       "    </tr>\n",
       "  </thead>\n",
       "  <tbody>\n",
       "    <tr>\n",
       "      <th>0</th>\n",
       "      <td></td>\n",
       "      <td>{'RM_d2': 0}</td>\n",
       "      <td>{'RM_d1': 0}</td>\n",
       "      <td>{'RM_e': 64.64}</td>\n",
       "      <td>{'kWh': 263}</td>\n",
       "      <td>2014/April</td>\n",
       "      <td>{'RM_s': 0}</td>\n",
       "      <td>{'RM_w': 0}</td>\n",
       "      <td>{'m3': 0}</td>\n",
       "    </tr>\n",
       "    <tr>\n",
       "      <th>1</th>\n",
       "      <td></td>\n",
       "      <td>{'RM_d2': 0}</td>\n",
       "      <td>{'RM_d1': 0}</td>\n",
       "      <td>{'RM_e': 66.31}</td>\n",
       "      <td>{'kWh': 268}</td>\n",
       "      <td>2014/August</td>\n",
       "      <td>{'RM_s': 0}</td>\n",
       "      <td>{'RM_w': 0}</td>\n",
       "      <td>{'m3': 0}</td>\n",
       "    </tr>\n",
       "    <tr>\n",
       "      <th>2</th>\n",
       "      <td></td>\n",
       "      <td>{'RM_d2': 0}</td>\n",
       "      <td>{'RM_d1': 0}</td>\n",
       "      <td>{'RM_e': 86.34}</td>\n",
       "      <td>{'kWh': 337}</td>\n",
       "      <td>2014/December</td>\n",
       "      <td>{'RM_s': 0}</td>\n",
       "      <td>{'RM_w': 0}</td>\n",
       "      <td>{'m3': 0}</td>\n",
       "    </tr>\n",
       "    <tr>\n",
       "      <th>3</th>\n",
       "      <td></td>\n",
       "      <td>{'RM_d2': 0}</td>\n",
       "      <td>{'RM_d1': 0}</td>\n",
       "      <td>{'RM_e': 70.56}</td>\n",
       "      <td>{'kWh': 288}</td>\n",
       "      <td>2014/February</td>\n",
       "      <td>{'RM_s': 0}</td>\n",
       "      <td>{'RM_w': 0}</td>\n",
       "      <td>{'m3': 0}</td>\n",
       "    </tr>\n",
       "    <tr>\n",
       "      <th>4</th>\n",
       "      <td></td>\n",
       "      <td>{'RM_d2': 0}</td>\n",
       "      <td>{'RM_d1': 0}</td>\n",
       "      <td>{'RM_e': 63.98}</td>\n",
       "      <td>{'kWh': 261}</td>\n",
       "      <td>2014/January</td>\n",
       "      <td>{'RM_s': 0}</td>\n",
       "      <td>{'RM_w': 0}</td>\n",
       "      <td>{'m3': 0}</td>\n",
       "    </tr>\n",
       "    <tr>\n",
       "      <th>...</th>\n",
       "      <td>...</td>\n",
       "      <td>...</td>\n",
       "      <td>...</td>\n",
       "      <td>...</td>\n",
       "      <td>...</td>\n",
       "      <td>...</td>\n",
       "      <td>...</td>\n",
       "      <td>...</td>\n",
       "      <td>...</td>\n",
       "    </tr>\n",
       "    <tr>\n",
       "      <th>97</th>\n",
       "      <td></td>\n",
       "      <td>{'RM_d2': 20}</td>\n",
       "      <td>{'RM_d1': 30.53}</td>\n",
       "      <td>{'RM_e': 83.85}</td>\n",
       "      <td>{'kWh': 323}</td>\n",
       "      <td>2022/February</td>\n",
       "      <td>{'RM_s': 147.35}</td>\n",
       "      <td>{'RM_w': 2.06}</td>\n",
       "      <td>{'m3': 22}</td>\n",
       "    </tr>\n",
       "    <tr>\n",
       "      <th>98</th>\n",
       "      <td></td>\n",
       "      <td>{'RM_d2': 20}</td>\n",
       "      <td>{'RM_d1': 30}</td>\n",
       "      <td>{'RM_e': 102}</td>\n",
       "      <td>{'kWh': 359}</td>\n",
       "      <td>2022/January</td>\n",
       "      <td>{'RM_s': 147}</td>\n",
       "      <td>{'RM_w': 4}</td>\n",
       "      <td>{'m3': 24}</td>\n",
       "    </tr>\n",
       "    <tr>\n",
       "      <th>99</th>\n",
       "      <td></td>\n",
       "      <td>{'RM_d2': 20}</td>\n",
       "      <td>{'RM_d1': 40}</td>\n",
       "      <td>{'RM_e': 123.65}</td>\n",
       "      <td>{'kWh': 402}</td>\n",
       "      <td>2022/June</td>\n",
       "      <td>{'RM_s': 147.35}</td>\n",
       "      <td>{'RM_w': 13.4}</td>\n",
       "      <td>{'m3': 33}</td>\n",
       "    </tr>\n",
       "    <tr>\n",
       "      <th>100</th>\n",
       "      <td></td>\n",
       "      <td>{'RM_d2': 20.1}</td>\n",
       "      <td>{'RM_d1': 30.45}</td>\n",
       "      <td>{'RM_e': 114.6}</td>\n",
       "      <td>{'kWh': 384}</td>\n",
       "      <td>2022/March</td>\n",
       "      <td>{'RM_s': 147.35}</td>\n",
       "      <td>{'RM_w': 7.2}</td>\n",
       "      <td>{'m3': 27}</td>\n",
       "    </tr>\n",
       "    <tr>\n",
       "      <th>101</th>\n",
       "      <td></td>\n",
       "      <td>{'RM_d2': 20}</td>\n",
       "      <td>{'RM_d1': 30}</td>\n",
       "      <td>{'RM_e': 71}</td>\n",
       "      <td>{'kWh': 300}</td>\n",
       "      <td>2022/May</td>\n",
       "      <td>{'RM_s': 147.35}</td>\n",
       "      <td>{'RM_w': 1.05}</td>\n",
       "      <td>{'m3': 21}</td>\n",
       "    </tr>\n",
       "  </tbody>\n",
       "</table>\n",
       "<p>102 rows × 9 columns</p>\n",
       "</div>"
      ],
      "text/plain": [
       "    comment         digi_ani        digi_zahir            e_cost  \\\n",
       "0               {'RM_d2': 0}      {'RM_d1': 0}   {'RM_e': 64.64}   \n",
       "1               {'RM_d2': 0}      {'RM_d1': 0}   {'RM_e': 66.31}   \n",
       "2               {'RM_d2': 0}      {'RM_d1': 0}   {'RM_e': 86.34}   \n",
       "3               {'RM_d2': 0}      {'RM_d1': 0}   {'RM_e': 70.56}   \n",
       "4               {'RM_d2': 0}      {'RM_d1': 0}   {'RM_e': 63.98}   \n",
       "..      ...              ...               ...               ...   \n",
       "97             {'RM_d2': 20}  {'RM_d1': 30.53}   {'RM_e': 83.85}   \n",
       "98             {'RM_d2': 20}     {'RM_d1': 30}     {'RM_e': 102}   \n",
       "99             {'RM_d2': 20}     {'RM_d1': 40}  {'RM_e': 123.65}   \n",
       "100          {'RM_d2': 20.1}  {'RM_d1': 30.45}   {'RM_e': 114.6}   \n",
       "101            {'RM_d2': 20}     {'RM_d1': 30}      {'RM_e': 71}   \n",
       "\n",
       "          e_usage            key          streamyx          w_cost     w_usage  \n",
       "0    {'kWh': 263}     2014/April       {'RM_s': 0}     {'RM_w': 0}   {'m3': 0}  \n",
       "1    {'kWh': 268}    2014/August       {'RM_s': 0}     {'RM_w': 0}   {'m3': 0}  \n",
       "2    {'kWh': 337}  2014/December       {'RM_s': 0}     {'RM_w': 0}   {'m3': 0}  \n",
       "3    {'kWh': 288}  2014/February       {'RM_s': 0}     {'RM_w': 0}   {'m3': 0}  \n",
       "4    {'kWh': 261}   2014/January       {'RM_s': 0}     {'RM_w': 0}   {'m3': 0}  \n",
       "..            ...            ...               ...             ...         ...  \n",
       "97   {'kWh': 323}  2022/February  {'RM_s': 147.35}  {'RM_w': 2.06}  {'m3': 22}  \n",
       "98   {'kWh': 359}   2022/January     {'RM_s': 147}     {'RM_w': 4}  {'m3': 24}  \n",
       "99   {'kWh': 402}      2022/June  {'RM_s': 147.35}  {'RM_w': 13.4}  {'m3': 33}  \n",
       "100  {'kWh': 384}     2022/March  {'RM_s': 147.35}   {'RM_w': 7.2}  {'m3': 27}  \n",
       "101  {'kWh': 300}       2022/May  {'RM_s': 147.35}  {'RM_w': 1.05}  {'m3': 21}  \n",
       "\n",
       "[102 rows x 9 columns]"
      ]
     },
     "execution_count": 19,
     "metadata": {},
     "output_type": "execute_result"
    }
   ],
   "source": [
    "entries = fetch_all_periods()\n",
    "df = json.dumps(entries)\n",
    "df = pd.read_json(df)\n",
    "df['key'] = df['key'].str.replace('_','/')\n",
    "#df['key'] = df['key'].str.replace('_',' ')\n",
    "#df_1 = df['key'].str.split(' ', 1, expand=True)\n",
    "#df = pd.concat([df,df_1],axis=1)\n",
    "#df = df[['digi_ani','digi_zahir','e_cost','e_usage','streamyx','w_cost','w_usage',0,1]]\n",
    "#df = df.rename(columns={0:'year',1:'month'})\n",
    "#df_2023 = df[df.year == '2023']\n",
    "#df_2022 = df[df.year == '2022']\n",
    "#df_2022\n",
    "df"
   ]
  },
  {
   "cell_type": "code",
   "execution_count": 40,
   "id": "8d85cefe",
   "metadata": {},
   "outputs": [
    {
     "data": {
      "text/html": [
       "<div>\n",
       "<style scoped>\n",
       "    .dataframe tbody tr th:only-of-type {\n",
       "        vertical-align: middle;\n",
       "    }\n",
       "\n",
       "    .dataframe tbody tr th {\n",
       "        vertical-align: top;\n",
       "    }\n",
       "\n",
       "    .dataframe thead th {\n",
       "        text-align: right;\n",
       "    }\n",
       "</style>\n",
       "<table border=\"1\" class=\"dataframe\">\n",
       "  <thead>\n",
       "    <tr style=\"text-align: right;\">\n",
       "      <th></th>\n",
       "      <th>comment</th>\n",
       "      <th>digi_ani</th>\n",
       "      <th>digi_zahir</th>\n",
       "      <th>e_cost</th>\n",
       "      <th>e_usage</th>\n",
       "      <th>key</th>\n",
       "      <th>streamyx</th>\n",
       "      <th>w_cost</th>\n",
       "      <th>w_usage</th>\n",
       "    </tr>\n",
       "  </thead>\n",
       "  <tbody>\n",
       "    <tr>\n",
       "      <th>76</th>\n",
       "      <td></td>\n",
       "      <td>{'RM_d2': 0}</td>\n",
       "      <td>{'RM_d1': 0}</td>\n",
       "      <td>{'RM_e': 107.05}</td>\n",
       "      <td>{'kWh': 355}</td>\n",
       "      <td>2020-01-01</td>\n",
       "      <td>{'RM_s': 147.35}</td>\n",
       "      <td>{'RM_w': 0}</td>\n",
       "      <td>{'m3': 8}</td>\n",
       "    </tr>\n",
       "    <tr>\n",
       "      <th>75</th>\n",
       "      <td></td>\n",
       "      <td>{'RM_d2': 0}</td>\n",
       "      <td>{'RM_d1': 0}</td>\n",
       "      <td>{'RM_e': 85.55}</td>\n",
       "      <td>{'kWh': 314}</td>\n",
       "      <td>2020-02-01</td>\n",
       "      <td>{'RM_s': 147.35}</td>\n",
       "      <td>{'RM_w': 0}</td>\n",
       "      <td>{'m3': 8}</td>\n",
       "    </tr>\n",
       "    <tr>\n",
       "      <th>79</th>\n",
       "      <td></td>\n",
       "      <td>{'RM_d2': 0}</td>\n",
       "      <td>{'RM_d1': 0}</td>\n",
       "      <td>{'RM_e': 104.45}</td>\n",
       "      <td>{'kWh': 350}</td>\n",
       "      <td>2020-03-01</td>\n",
       "      <td>{'RM_s': 147.35}</td>\n",
       "      <td>{'RM_w': 6}</td>\n",
       "      <td>{'m3': 8}</td>\n",
       "    </tr>\n",
       "    <tr>\n",
       "      <th>72</th>\n",
       "      <td></td>\n",
       "      <td>{'RM_d2': 0}</td>\n",
       "      <td>{'RM_d1': 0}</td>\n",
       "      <td>{'RM_e': 96.35}</td>\n",
       "      <td>{'kWh': 350}</td>\n",
       "      <td>2020-04-01</td>\n",
       "      <td>{'RM_s': 147.35}</td>\n",
       "      <td>{'RM_w': 6}</td>\n",
       "      <td>{'m3': 9}</td>\n",
       "    </tr>\n",
       "    <tr>\n",
       "      <th>80</th>\n",
       "      <td></td>\n",
       "      <td>{'RM_d2': 0}</td>\n",
       "      <td>{'RM_d1': 0}</td>\n",
       "      <td>{'RM_e': 88.8}</td>\n",
       "      <td>{'kWh': 350}</td>\n",
       "      <td>2020-05-01</td>\n",
       "      <td>{'RM_s': 147.35}</td>\n",
       "      <td>{'RM_w': 11.4}</td>\n",
       "      <td>{'m3': 20}</td>\n",
       "    </tr>\n",
       "    <tr>\n",
       "      <th>78</th>\n",
       "      <td></td>\n",
       "      <td>{'RM_d2': 0}</td>\n",
       "      <td>{'RM_d1': 0}</td>\n",
       "      <td>{'RM_e': 164.4}</td>\n",
       "      <td>{'kWh': 1221}</td>\n",
       "      <td>2020-06-01</td>\n",
       "      <td>{'RM_s': 147.35}</td>\n",
       "      <td>{'RM_w': 12.45}</td>\n",
       "      <td>{'m3': 21}</td>\n",
       "    </tr>\n",
       "    <tr>\n",
       "      <th>77</th>\n",
       "      <td></td>\n",
       "      <td>{'RM_d2': 0}</td>\n",
       "      <td>{'RM_d1': 0}</td>\n",
       "      <td>{'RM_e': 112.1}</td>\n",
       "      <td>{'kWh': 368}</td>\n",
       "      <td>2020-07-01</td>\n",
       "      <td>{'RM_s': 147.35}</td>\n",
       "      <td>{'RM_w': 15.5}</td>\n",
       "      <td>{'m3': 24}</td>\n",
       "    </tr>\n",
       "    <tr>\n",
       "      <th>73</th>\n",
       "      <td></td>\n",
       "      <td>{'RM_d2': 0}</td>\n",
       "      <td>{'RM_d1': 0}</td>\n",
       "      <td>{'RM_e': 99.7}</td>\n",
       "      <td>{'kWh': 344}</td>\n",
       "      <td>2020-08-01</td>\n",
       "      <td>{'RM_s': 147.35}</td>\n",
       "      <td>{'RM_w': 17.6}</td>\n",
       "      <td>{'m3': 26}</td>\n",
       "    </tr>\n",
       "    <tr>\n",
       "      <th>83</th>\n",
       "      <td></td>\n",
       "      <td>{'RM_d2': 0}</td>\n",
       "      <td>{'RM_d1': 0}</td>\n",
       "      <td>{'RM_e': 107.96}</td>\n",
       "      <td>{'kWh': 360}</td>\n",
       "      <td>2020-09-01</td>\n",
       "      <td>{'RM_s': 147.35}</td>\n",
       "      <td>{'RM_w': 15.5}</td>\n",
       "      <td>{'m3': 24}</td>\n",
       "    </tr>\n",
       "    <tr>\n",
       "      <th>82</th>\n",
       "      <td></td>\n",
       "      <td>{'RM_d2': 0}</td>\n",
       "      <td>{'RM_d1': 0}</td>\n",
       "      <td>{'RM_e': 82.55}</td>\n",
       "      <td>{'kWh': 336}</td>\n",
       "      <td>2020-10-01</td>\n",
       "      <td>{'RM_s': 147.35}</td>\n",
       "      <td>{'RM_w': 15.5}</td>\n",
       "      <td>{'m3': 24}</td>\n",
       "    </tr>\n",
       "    <tr>\n",
       "      <th>81</th>\n",
       "      <td></td>\n",
       "      <td>{'RM_d2': 0}</td>\n",
       "      <td>{'RM_d1': 0}</td>\n",
       "      <td>{'RM_e': 107.05}</td>\n",
       "      <td>{'kWh': 391}</td>\n",
       "      <td>2020-11-01</td>\n",
       "      <td>{'RM_s': 147.35}</td>\n",
       "      <td>{'RM_w': 11.4}</td>\n",
       "      <td>{'m3': 20}</td>\n",
       "    </tr>\n",
       "    <tr>\n",
       "      <th>74</th>\n",
       "      <td></td>\n",
       "      <td>{'RM_d2': 0}</td>\n",
       "      <td>{'RM_d1': 0}</td>\n",
       "      <td>{'RM_e': 84.8}</td>\n",
       "      <td>{'kWh': 341}</td>\n",
       "      <td>2020-12-01</td>\n",
       "      <td>{'RM_s': 147.35}</td>\n",
       "      <td>{'RM_w': 18.6}</td>\n",
       "      <td>{'m3': 27}</td>\n",
       "    </tr>\n",
       "  </tbody>\n",
       "</table>\n",
       "</div>"
      ],
      "text/plain": [
       "   comment      digi_ani    digi_zahir            e_cost        e_usage  \\\n",
       "76          {'RM_d2': 0}  {'RM_d1': 0}  {'RM_e': 107.05}   {'kWh': 355}   \n",
       "75          {'RM_d2': 0}  {'RM_d1': 0}   {'RM_e': 85.55}   {'kWh': 314}   \n",
       "79          {'RM_d2': 0}  {'RM_d1': 0}  {'RM_e': 104.45}   {'kWh': 350}   \n",
       "72          {'RM_d2': 0}  {'RM_d1': 0}   {'RM_e': 96.35}   {'kWh': 350}   \n",
       "80          {'RM_d2': 0}  {'RM_d1': 0}    {'RM_e': 88.8}   {'kWh': 350}   \n",
       "78          {'RM_d2': 0}  {'RM_d1': 0}   {'RM_e': 164.4}  {'kWh': 1221}   \n",
       "77          {'RM_d2': 0}  {'RM_d1': 0}   {'RM_e': 112.1}   {'kWh': 368}   \n",
       "73          {'RM_d2': 0}  {'RM_d1': 0}    {'RM_e': 99.7}   {'kWh': 344}   \n",
       "83          {'RM_d2': 0}  {'RM_d1': 0}  {'RM_e': 107.96}   {'kWh': 360}   \n",
       "82          {'RM_d2': 0}  {'RM_d1': 0}   {'RM_e': 82.55}   {'kWh': 336}   \n",
       "81          {'RM_d2': 0}  {'RM_d1': 0}  {'RM_e': 107.05}   {'kWh': 391}   \n",
       "74          {'RM_d2': 0}  {'RM_d1': 0}    {'RM_e': 84.8}   {'kWh': 341}   \n",
       "\n",
       "          key          streamyx           w_cost     w_usage  \n",
       "76 2020-01-01  {'RM_s': 147.35}      {'RM_w': 0}   {'m3': 8}  \n",
       "75 2020-02-01  {'RM_s': 147.35}      {'RM_w': 0}   {'m3': 8}  \n",
       "79 2020-03-01  {'RM_s': 147.35}      {'RM_w': 6}   {'m3': 8}  \n",
       "72 2020-04-01  {'RM_s': 147.35}      {'RM_w': 6}   {'m3': 9}  \n",
       "80 2020-05-01  {'RM_s': 147.35}   {'RM_w': 11.4}  {'m3': 20}  \n",
       "78 2020-06-01  {'RM_s': 147.35}  {'RM_w': 12.45}  {'m3': 21}  \n",
       "77 2020-07-01  {'RM_s': 147.35}   {'RM_w': 15.5}  {'m3': 24}  \n",
       "73 2020-08-01  {'RM_s': 147.35}   {'RM_w': 17.6}  {'m3': 26}  \n",
       "83 2020-09-01  {'RM_s': 147.35}   {'RM_w': 15.5}  {'m3': 24}  \n",
       "82 2020-10-01  {'RM_s': 147.35}   {'RM_w': 15.5}  {'m3': 24}  \n",
       "81 2020-11-01  {'RM_s': 147.35}   {'RM_w': 11.4}  {'m3': 20}  \n",
       "74 2020-12-01  {'RM_s': 147.35}   {'RM_w': 18.6}  {'m3': 27}  "
      ]
     },
     "execution_count": 40,
     "metadata": {},
     "output_type": "execute_result"
    }
   ],
   "source": [
    "df['key']= pd.to_datetime(df['key'])\n",
    "df_2020 = df[(df['key'] >= \"2020-01-01\") & (df['key'] <=\"2020-12-01\")]\n",
    "df_2020 = df_2020.sort_values(by='key')\n",
    "df_2020"
   ]
  },
  {
   "cell_type": "code",
   "execution_count": 71,
   "id": "5a8f64fe",
   "metadata": {},
   "outputs": [],
   "source": [
    "#df_ecost_2020 = df_2020['e_cost']\n",
    "#df_ecost_2020"
   ]
  },
  {
   "cell_type": "code",
   "execution_count": 70,
   "id": "dac33a6a",
   "metadata": {},
   "outputs": [],
   "source": [
    "#for key, value in df_ecost_2020.items():\n",
    "    #print(key, value)"
   ]
  },
  {
   "cell_type": "code",
   "execution_count": 69,
   "id": "ef60dd78",
   "metadata": {},
   "outputs": [
    {
     "name": "stdout",
     "output_type": "stream",
     "text": [
      "1240.76\n"
     ]
    },
    {
     "data": {
      "text/plain": [
       "0     107.05\n",
       "1      85.55\n",
       "2     104.45\n",
       "3      96.35\n",
       "4      88.80\n",
       "5     164.40\n",
       "6     112.10\n",
       "7      99.70\n",
       "8     107.96\n",
       "9      82.55\n",
       "10    107.05\n",
       "11     84.80\n",
       "Name: e_cost, dtype: float64"
      ]
     },
     "execution_count": 69,
     "metadata": {},
     "output_type": "execute_result"
    }
   ],
   "source": [
    "df_ecost_2020 = df_2020['e_cost'].map(Counter).groupby(df_2020['key']).sum().reset_index()\n",
    "df_ecost_2020 = df_ecost_2020['e_cost'].apply(lambda x: x.get('RM_e')).dropna()\n",
    "print(df_ecost_2020.sum())\n",
    "df_ecost_2020"
   ]
  },
  {
   "cell_type": "code",
   "execution_count": 67,
   "id": "fe3e1098",
   "metadata": {},
   "outputs": [
    {
     "data": {
      "application/vnd.plotly.v1+json": {
       "config": {
        "plotlyServerURL": "https://plot.ly"
       },
       "data": [
        {
         "name": "",
         "type": "bar",
         "x": [
          "January",
          "February",
          "March",
          "April",
          "May",
          "June",
          "July",
          "August",
          "September",
          "October",
          "November",
          "December"
         ],
         "y": [
          107.05,
          85.55,
          104.45,
          96.35,
          88.8,
          164.4,
          112.1,
          99.7,
          107.96,
          82.55,
          107.05,
          84.8
         ]
        }
       ],
       "layout": {
        "font": {
         "family": "Helvetica",
         "size": 10
        },
        "height": 350,
        "plot_bgcolor": "rgba(0,0,0,0)",
        "showlegend": false,
        "template": {
         "data": {
          "bar": [
           {
            "error_x": {
             "color": "#2a3f5f"
            },
            "error_y": {
             "color": "#2a3f5f"
            },
            "marker": {
             "line": {
              "color": "#E5ECF6",
              "width": 0.5
             },
             "pattern": {
              "fillmode": "overlay",
              "size": 10,
              "solidity": 0.2
             }
            },
            "type": "bar"
           }
          ],
          "barpolar": [
           {
            "marker": {
             "line": {
              "color": "#E5ECF6",
              "width": 0.5
             },
             "pattern": {
              "fillmode": "overlay",
              "size": 10,
              "solidity": 0.2
             }
            },
            "type": "barpolar"
           }
          ],
          "carpet": [
           {
            "aaxis": {
             "endlinecolor": "#2a3f5f",
             "gridcolor": "white",
             "linecolor": "white",
             "minorgridcolor": "white",
             "startlinecolor": "#2a3f5f"
            },
            "baxis": {
             "endlinecolor": "#2a3f5f",
             "gridcolor": "white",
             "linecolor": "white",
             "minorgridcolor": "white",
             "startlinecolor": "#2a3f5f"
            },
            "type": "carpet"
           }
          ],
          "choropleth": [
           {
            "colorbar": {
             "outlinewidth": 0,
             "ticks": ""
            },
            "type": "choropleth"
           }
          ],
          "contour": [
           {
            "colorbar": {
             "outlinewidth": 0,
             "ticks": ""
            },
            "colorscale": [
             [
              0,
              "#0d0887"
             ],
             [
              0.1111111111111111,
              "#46039f"
             ],
             [
              0.2222222222222222,
              "#7201a8"
             ],
             [
              0.3333333333333333,
              "#9c179e"
             ],
             [
              0.4444444444444444,
              "#bd3786"
             ],
             [
              0.5555555555555556,
              "#d8576b"
             ],
             [
              0.6666666666666666,
              "#ed7953"
             ],
             [
              0.7777777777777778,
              "#fb9f3a"
             ],
             [
              0.8888888888888888,
              "#fdca26"
             ],
             [
              1,
              "#f0f921"
             ]
            ],
            "type": "contour"
           }
          ],
          "contourcarpet": [
           {
            "colorbar": {
             "outlinewidth": 0,
             "ticks": ""
            },
            "type": "contourcarpet"
           }
          ],
          "heatmap": [
           {
            "colorbar": {
             "outlinewidth": 0,
             "ticks": ""
            },
            "colorscale": [
             [
              0,
              "#0d0887"
             ],
             [
              0.1111111111111111,
              "#46039f"
             ],
             [
              0.2222222222222222,
              "#7201a8"
             ],
             [
              0.3333333333333333,
              "#9c179e"
             ],
             [
              0.4444444444444444,
              "#bd3786"
             ],
             [
              0.5555555555555556,
              "#d8576b"
             ],
             [
              0.6666666666666666,
              "#ed7953"
             ],
             [
              0.7777777777777778,
              "#fb9f3a"
             ],
             [
              0.8888888888888888,
              "#fdca26"
             ],
             [
              1,
              "#f0f921"
             ]
            ],
            "type": "heatmap"
           }
          ],
          "heatmapgl": [
           {
            "colorbar": {
             "outlinewidth": 0,
             "ticks": ""
            },
            "colorscale": [
             [
              0,
              "#0d0887"
             ],
             [
              0.1111111111111111,
              "#46039f"
             ],
             [
              0.2222222222222222,
              "#7201a8"
             ],
             [
              0.3333333333333333,
              "#9c179e"
             ],
             [
              0.4444444444444444,
              "#bd3786"
             ],
             [
              0.5555555555555556,
              "#d8576b"
             ],
             [
              0.6666666666666666,
              "#ed7953"
             ],
             [
              0.7777777777777778,
              "#fb9f3a"
             ],
             [
              0.8888888888888888,
              "#fdca26"
             ],
             [
              1,
              "#f0f921"
             ]
            ],
            "type": "heatmapgl"
           }
          ],
          "histogram": [
           {
            "marker": {
             "pattern": {
              "fillmode": "overlay",
              "size": 10,
              "solidity": 0.2
             }
            },
            "type": "histogram"
           }
          ],
          "histogram2d": [
           {
            "colorbar": {
             "outlinewidth": 0,
             "ticks": ""
            },
            "colorscale": [
             [
              0,
              "#0d0887"
             ],
             [
              0.1111111111111111,
              "#46039f"
             ],
             [
              0.2222222222222222,
              "#7201a8"
             ],
             [
              0.3333333333333333,
              "#9c179e"
             ],
             [
              0.4444444444444444,
              "#bd3786"
             ],
             [
              0.5555555555555556,
              "#d8576b"
             ],
             [
              0.6666666666666666,
              "#ed7953"
             ],
             [
              0.7777777777777778,
              "#fb9f3a"
             ],
             [
              0.8888888888888888,
              "#fdca26"
             ],
             [
              1,
              "#f0f921"
             ]
            ],
            "type": "histogram2d"
           }
          ],
          "histogram2dcontour": [
           {
            "colorbar": {
             "outlinewidth": 0,
             "ticks": ""
            },
            "colorscale": [
             [
              0,
              "#0d0887"
             ],
             [
              0.1111111111111111,
              "#46039f"
             ],
             [
              0.2222222222222222,
              "#7201a8"
             ],
             [
              0.3333333333333333,
              "#9c179e"
             ],
             [
              0.4444444444444444,
              "#bd3786"
             ],
             [
              0.5555555555555556,
              "#d8576b"
             ],
             [
              0.6666666666666666,
              "#ed7953"
             ],
             [
              0.7777777777777778,
              "#fb9f3a"
             ],
             [
              0.8888888888888888,
              "#fdca26"
             ],
             [
              1,
              "#f0f921"
             ]
            ],
            "type": "histogram2dcontour"
           }
          ],
          "mesh3d": [
           {
            "colorbar": {
             "outlinewidth": 0,
             "ticks": ""
            },
            "type": "mesh3d"
           }
          ],
          "parcoords": [
           {
            "line": {
             "colorbar": {
              "outlinewidth": 0,
              "ticks": ""
             }
            },
            "type": "parcoords"
           }
          ],
          "pie": [
           {
            "automargin": true,
            "type": "pie"
           }
          ],
          "scatter": [
           {
            "fillpattern": {
             "fillmode": "overlay",
             "size": 10,
             "solidity": 0.2
            },
            "type": "scatter"
           }
          ],
          "scatter3d": [
           {
            "line": {
             "colorbar": {
              "outlinewidth": 0,
              "ticks": ""
             }
            },
            "marker": {
             "colorbar": {
              "outlinewidth": 0,
              "ticks": ""
             }
            },
            "type": "scatter3d"
           }
          ],
          "scattercarpet": [
           {
            "marker": {
             "colorbar": {
              "outlinewidth": 0,
              "ticks": ""
             }
            },
            "type": "scattercarpet"
           }
          ],
          "scattergeo": [
           {
            "marker": {
             "colorbar": {
              "outlinewidth": 0,
              "ticks": ""
             }
            },
            "type": "scattergeo"
           }
          ],
          "scattergl": [
           {
            "marker": {
             "colorbar": {
              "outlinewidth": 0,
              "ticks": ""
             }
            },
            "type": "scattergl"
           }
          ],
          "scattermapbox": [
           {
            "marker": {
             "colorbar": {
              "outlinewidth": 0,
              "ticks": ""
             }
            },
            "type": "scattermapbox"
           }
          ],
          "scatterpolar": [
           {
            "marker": {
             "colorbar": {
              "outlinewidth": 0,
              "ticks": ""
             }
            },
            "type": "scatterpolar"
           }
          ],
          "scatterpolargl": [
           {
            "marker": {
             "colorbar": {
              "outlinewidth": 0,
              "ticks": ""
             }
            },
            "type": "scatterpolargl"
           }
          ],
          "scatterternary": [
           {
            "marker": {
             "colorbar": {
              "outlinewidth": 0,
              "ticks": ""
             }
            },
            "type": "scatterternary"
           }
          ],
          "surface": [
           {
            "colorbar": {
             "outlinewidth": 0,
             "ticks": ""
            },
            "colorscale": [
             [
              0,
              "#0d0887"
             ],
             [
              0.1111111111111111,
              "#46039f"
             ],
             [
              0.2222222222222222,
              "#7201a8"
             ],
             [
              0.3333333333333333,
              "#9c179e"
             ],
             [
              0.4444444444444444,
              "#bd3786"
             ],
             [
              0.5555555555555556,
              "#d8576b"
             ],
             [
              0.6666666666666666,
              "#ed7953"
             ],
             [
              0.7777777777777778,
              "#fb9f3a"
             ],
             [
              0.8888888888888888,
              "#fdca26"
             ],
             [
              1,
              "#f0f921"
             ]
            ],
            "type": "surface"
           }
          ],
          "table": [
           {
            "cells": {
             "fill": {
              "color": "#EBF0F8"
             },
             "line": {
              "color": "white"
             }
            },
            "header": {
             "fill": {
              "color": "#C8D4E3"
             },
             "line": {
              "color": "white"
             }
            },
            "type": "table"
           }
          ]
         },
         "layout": {
          "annotationdefaults": {
           "arrowcolor": "#2a3f5f",
           "arrowhead": 0,
           "arrowwidth": 1
          },
          "autotypenumbers": "strict",
          "coloraxis": {
           "colorbar": {
            "outlinewidth": 0,
            "ticks": ""
           }
          },
          "colorscale": {
           "diverging": [
            [
             0,
             "#8e0152"
            ],
            [
             0.1,
             "#c51b7d"
            ],
            [
             0.2,
             "#de77ae"
            ],
            [
             0.3,
             "#f1b6da"
            ],
            [
             0.4,
             "#fde0ef"
            ],
            [
             0.5,
             "#f7f7f7"
            ],
            [
             0.6,
             "#e6f5d0"
            ],
            [
             0.7,
             "#b8e186"
            ],
            [
             0.8,
             "#7fbc41"
            ],
            [
             0.9,
             "#4d9221"
            ],
            [
             1,
             "#276419"
            ]
           ],
           "sequential": [
            [
             0,
             "#0d0887"
            ],
            [
             0.1111111111111111,
             "#46039f"
            ],
            [
             0.2222222222222222,
             "#7201a8"
            ],
            [
             0.3333333333333333,
             "#9c179e"
            ],
            [
             0.4444444444444444,
             "#bd3786"
            ],
            [
             0.5555555555555556,
             "#d8576b"
            ],
            [
             0.6666666666666666,
             "#ed7953"
            ],
            [
             0.7777777777777778,
             "#fb9f3a"
            ],
            [
             0.8888888888888888,
             "#fdca26"
            ],
            [
             1,
             "#f0f921"
            ]
           ],
           "sequentialminus": [
            [
             0,
             "#0d0887"
            ],
            [
             0.1111111111111111,
             "#46039f"
            ],
            [
             0.2222222222222222,
             "#7201a8"
            ],
            [
             0.3333333333333333,
             "#9c179e"
            ],
            [
             0.4444444444444444,
             "#bd3786"
            ],
            [
             0.5555555555555556,
             "#d8576b"
            ],
            [
             0.6666666666666666,
             "#ed7953"
            ],
            [
             0.7777777777777778,
             "#fb9f3a"
            ],
            [
             0.8888888888888888,
             "#fdca26"
            ],
            [
             1,
             "#f0f921"
            ]
           ]
          },
          "colorway": [
           "#636efa",
           "#EF553B",
           "#00cc96",
           "#ab63fa",
           "#FFA15A",
           "#19d3f3",
           "#FF6692",
           "#B6E880",
           "#FF97FF",
           "#FECB52"
          ],
          "font": {
           "color": "#2a3f5f"
          },
          "geo": {
           "bgcolor": "white",
           "lakecolor": "white",
           "landcolor": "#E5ECF6",
           "showlakes": true,
           "showland": true,
           "subunitcolor": "white"
          },
          "hoverlabel": {
           "align": "left"
          },
          "hovermode": "closest",
          "mapbox": {
           "style": "light"
          },
          "paper_bgcolor": "white",
          "plot_bgcolor": "#E5ECF6",
          "polar": {
           "angularaxis": {
            "gridcolor": "white",
            "linecolor": "white",
            "ticks": ""
           },
           "bgcolor": "#E5ECF6",
           "radialaxis": {
            "gridcolor": "white",
            "linecolor": "white",
            "ticks": ""
           }
          },
          "scene": {
           "xaxis": {
            "backgroundcolor": "#E5ECF6",
            "gridcolor": "white",
            "gridwidth": 2,
            "linecolor": "white",
            "showbackground": true,
            "ticks": "",
            "zerolinecolor": "white"
           },
           "yaxis": {
            "backgroundcolor": "#E5ECF6",
            "gridcolor": "white",
            "gridwidth": 2,
            "linecolor": "white",
            "showbackground": true,
            "ticks": "",
            "zerolinecolor": "white"
           },
           "zaxis": {
            "backgroundcolor": "#E5ECF6",
            "gridcolor": "white",
            "gridwidth": 2,
            "linecolor": "white",
            "showbackground": true,
            "ticks": "",
            "zerolinecolor": "white"
           }
          },
          "shapedefaults": {
           "line": {
            "color": "#2a3f5f"
           }
          },
          "ternary": {
           "aaxis": {
            "gridcolor": "white",
            "linecolor": "white",
            "ticks": ""
           },
           "baxis": {
            "gridcolor": "white",
            "linecolor": "white",
            "ticks": ""
           },
           "bgcolor": "#E5ECF6",
           "caxis": {
            "gridcolor": "white",
            "linecolor": "white",
            "ticks": ""
           }
          },
          "title": {
           "x": 0.05
          },
          "xaxis": {
           "automargin": true,
           "gridcolor": "white",
           "linecolor": "white",
           "ticks": "",
           "title": {
            "standoff": 15
           },
           "zerolinecolor": "white",
           "zerolinewidth": 2
          },
          "yaxis": {
           "automargin": true,
           "gridcolor": "white",
           "linecolor": "white",
           "ticks": "",
           "title": {
            "standoff": 15
           },
           "zerolinecolor": "white",
           "zerolinewidth": 2
          }
         }
        },
        "title": {
         "text": "Total Utility Cost (RM)",
         "x": 0.5
        },
        "xaxis": {
         "anchor": "y",
         "domain": [
          0,
          0.94
         ],
         "linecolor": "black",
         "linewidth": 2,
         "showgrid": false,
         "showline": true,
         "tickmode": "array",
         "title": {
          "text": ""
         },
         "zeroline": false
        },
        "yaxis": {
         "anchor": "x",
         "domain": [
          0,
          1
         ],
         "linecolor": "black",
         "linewidth": 2,
         "showgrid": false,
         "showline": true,
         "title": {},
         "zeroline": false
        },
        "yaxis2": {
         "anchor": "x",
         "linecolor": "black",
         "linewidth": 2,
         "overlaying": "y",
         "showgrid": false,
         "showline": true,
         "side": "right",
         "zeroline": false
        }
       }
      },
      "text/html": [
       "<div>                            <div id=\"22c9bde3-1bee-4305-8723-c003983c173f\" class=\"plotly-graph-div\" style=\"height:350px; width:100%;\"></div>            <script type=\"text/javascript\">                require([\"plotly\"], function(Plotly) {                    window.PLOTLYENV=window.PLOTLYENV || {};                                    if (document.getElementById(\"22c9bde3-1bee-4305-8723-c003983c173f\")) {                    Plotly.newPlot(                        \"22c9bde3-1bee-4305-8723-c003983c173f\",                        [{\"name\":\"\",\"x\":[\"January\",\"February\",\"March\",\"April\",\"May\",\"June\",\"July\",\"August\",\"September\",\"October\",\"November\",\"December\"],\"y\":[107.05,85.55,104.45,96.35,88.8,164.4,112.1,99.7,107.96,82.55,107.05,84.8],\"type\":\"bar\"}],                        {\"template\":{\"data\":{\"histogram2dcontour\":[{\"type\":\"histogram2dcontour\",\"colorbar\":{\"outlinewidth\":0,\"ticks\":\"\"},\"colorscale\":[[0.0,\"#0d0887\"],[0.1111111111111111,\"#46039f\"],[0.2222222222222222,\"#7201a8\"],[0.3333333333333333,\"#9c179e\"],[0.4444444444444444,\"#bd3786\"],[0.5555555555555556,\"#d8576b\"],[0.6666666666666666,\"#ed7953\"],[0.7777777777777778,\"#fb9f3a\"],[0.8888888888888888,\"#fdca26\"],[1.0,\"#f0f921\"]]}],\"choropleth\":[{\"type\":\"choropleth\",\"colorbar\":{\"outlinewidth\":0,\"ticks\":\"\"}}],\"histogram2d\":[{\"type\":\"histogram2d\",\"colorbar\":{\"outlinewidth\":0,\"ticks\":\"\"},\"colorscale\":[[0.0,\"#0d0887\"],[0.1111111111111111,\"#46039f\"],[0.2222222222222222,\"#7201a8\"],[0.3333333333333333,\"#9c179e\"],[0.4444444444444444,\"#bd3786\"],[0.5555555555555556,\"#d8576b\"],[0.6666666666666666,\"#ed7953\"],[0.7777777777777778,\"#fb9f3a\"],[0.8888888888888888,\"#fdca26\"],[1.0,\"#f0f921\"]]}],\"heatmap\":[{\"type\":\"heatmap\",\"colorbar\":{\"outlinewidth\":0,\"ticks\":\"\"},\"colorscale\":[[0.0,\"#0d0887\"],[0.1111111111111111,\"#46039f\"],[0.2222222222222222,\"#7201a8\"],[0.3333333333333333,\"#9c179e\"],[0.4444444444444444,\"#bd3786\"],[0.5555555555555556,\"#d8576b\"],[0.6666666666666666,\"#ed7953\"],[0.7777777777777778,\"#fb9f3a\"],[0.8888888888888888,\"#fdca26\"],[1.0,\"#f0f921\"]]}],\"heatmapgl\":[{\"type\":\"heatmapgl\",\"colorbar\":{\"outlinewidth\":0,\"ticks\":\"\"},\"colorscale\":[[0.0,\"#0d0887\"],[0.1111111111111111,\"#46039f\"],[0.2222222222222222,\"#7201a8\"],[0.3333333333333333,\"#9c179e\"],[0.4444444444444444,\"#bd3786\"],[0.5555555555555556,\"#d8576b\"],[0.6666666666666666,\"#ed7953\"],[0.7777777777777778,\"#fb9f3a\"],[0.8888888888888888,\"#fdca26\"],[1.0,\"#f0f921\"]]}],\"contourcarpet\":[{\"type\":\"contourcarpet\",\"colorbar\":{\"outlinewidth\":0,\"ticks\":\"\"}}],\"contour\":[{\"type\":\"contour\",\"colorbar\":{\"outlinewidth\":0,\"ticks\":\"\"},\"colorscale\":[[0.0,\"#0d0887\"],[0.1111111111111111,\"#46039f\"],[0.2222222222222222,\"#7201a8\"],[0.3333333333333333,\"#9c179e\"],[0.4444444444444444,\"#bd3786\"],[0.5555555555555556,\"#d8576b\"],[0.6666666666666666,\"#ed7953\"],[0.7777777777777778,\"#fb9f3a\"],[0.8888888888888888,\"#fdca26\"],[1.0,\"#f0f921\"]]}],\"surface\":[{\"type\":\"surface\",\"colorbar\":{\"outlinewidth\":0,\"ticks\":\"\"},\"colorscale\":[[0.0,\"#0d0887\"],[0.1111111111111111,\"#46039f\"],[0.2222222222222222,\"#7201a8\"],[0.3333333333333333,\"#9c179e\"],[0.4444444444444444,\"#bd3786\"],[0.5555555555555556,\"#d8576b\"],[0.6666666666666666,\"#ed7953\"],[0.7777777777777778,\"#fb9f3a\"],[0.8888888888888888,\"#fdca26\"],[1.0,\"#f0f921\"]]}],\"mesh3d\":[{\"type\":\"mesh3d\",\"colorbar\":{\"outlinewidth\":0,\"ticks\":\"\"}}],\"scatter\":[{\"fillpattern\":{\"fillmode\":\"overlay\",\"size\":10,\"solidity\":0.2},\"type\":\"scatter\"}],\"parcoords\":[{\"type\":\"parcoords\",\"line\":{\"colorbar\":{\"outlinewidth\":0,\"ticks\":\"\"}}}],\"scatterpolargl\":[{\"type\":\"scatterpolargl\",\"marker\":{\"colorbar\":{\"outlinewidth\":0,\"ticks\":\"\"}}}],\"bar\":[{\"error_x\":{\"color\":\"#2a3f5f\"},\"error_y\":{\"color\":\"#2a3f5f\"},\"marker\":{\"line\":{\"color\":\"#E5ECF6\",\"width\":0.5},\"pattern\":{\"fillmode\":\"overlay\",\"size\":10,\"solidity\":0.2}},\"type\":\"bar\"}],\"scattergeo\":[{\"type\":\"scattergeo\",\"marker\":{\"colorbar\":{\"outlinewidth\":0,\"ticks\":\"\"}}}],\"scatterpolar\":[{\"type\":\"scatterpolar\",\"marker\":{\"colorbar\":{\"outlinewidth\":0,\"ticks\":\"\"}}}],\"histogram\":[{\"marker\":{\"pattern\":{\"fillmode\":\"overlay\",\"size\":10,\"solidity\":0.2}},\"type\":\"histogram\"}],\"scattergl\":[{\"type\":\"scattergl\",\"marker\":{\"colorbar\":{\"outlinewidth\":0,\"ticks\":\"\"}}}],\"scatter3d\":[{\"type\":\"scatter3d\",\"line\":{\"colorbar\":{\"outlinewidth\":0,\"ticks\":\"\"}},\"marker\":{\"colorbar\":{\"outlinewidth\":0,\"ticks\":\"\"}}}],\"scattermapbox\":[{\"type\":\"scattermapbox\",\"marker\":{\"colorbar\":{\"outlinewidth\":0,\"ticks\":\"\"}}}],\"scatterternary\":[{\"type\":\"scatterternary\",\"marker\":{\"colorbar\":{\"outlinewidth\":0,\"ticks\":\"\"}}}],\"scattercarpet\":[{\"type\":\"scattercarpet\",\"marker\":{\"colorbar\":{\"outlinewidth\":0,\"ticks\":\"\"}}}],\"carpet\":[{\"aaxis\":{\"endlinecolor\":\"#2a3f5f\",\"gridcolor\":\"white\",\"linecolor\":\"white\",\"minorgridcolor\":\"white\",\"startlinecolor\":\"#2a3f5f\"},\"baxis\":{\"endlinecolor\":\"#2a3f5f\",\"gridcolor\":\"white\",\"linecolor\":\"white\",\"minorgridcolor\":\"white\",\"startlinecolor\":\"#2a3f5f\"},\"type\":\"carpet\"}],\"table\":[{\"cells\":{\"fill\":{\"color\":\"#EBF0F8\"},\"line\":{\"color\":\"white\"}},\"header\":{\"fill\":{\"color\":\"#C8D4E3\"},\"line\":{\"color\":\"white\"}},\"type\":\"table\"}],\"barpolar\":[{\"marker\":{\"line\":{\"color\":\"#E5ECF6\",\"width\":0.5},\"pattern\":{\"fillmode\":\"overlay\",\"size\":10,\"solidity\":0.2}},\"type\":\"barpolar\"}],\"pie\":[{\"automargin\":true,\"type\":\"pie\"}]},\"layout\":{\"autotypenumbers\":\"strict\",\"colorway\":[\"#636efa\",\"#EF553B\",\"#00cc96\",\"#ab63fa\",\"#FFA15A\",\"#19d3f3\",\"#FF6692\",\"#B6E880\",\"#FF97FF\",\"#FECB52\"],\"font\":{\"color\":\"#2a3f5f\"},\"hovermode\":\"closest\",\"hoverlabel\":{\"align\":\"left\"},\"paper_bgcolor\":\"white\",\"plot_bgcolor\":\"#E5ECF6\",\"polar\":{\"bgcolor\":\"#E5ECF6\",\"angularaxis\":{\"gridcolor\":\"white\",\"linecolor\":\"white\",\"ticks\":\"\"},\"radialaxis\":{\"gridcolor\":\"white\",\"linecolor\":\"white\",\"ticks\":\"\"}},\"ternary\":{\"bgcolor\":\"#E5ECF6\",\"aaxis\":{\"gridcolor\":\"white\",\"linecolor\":\"white\",\"ticks\":\"\"},\"baxis\":{\"gridcolor\":\"white\",\"linecolor\":\"white\",\"ticks\":\"\"},\"caxis\":{\"gridcolor\":\"white\",\"linecolor\":\"white\",\"ticks\":\"\"}},\"coloraxis\":{\"colorbar\":{\"outlinewidth\":0,\"ticks\":\"\"}},\"colorscale\":{\"sequential\":[[0.0,\"#0d0887\"],[0.1111111111111111,\"#46039f\"],[0.2222222222222222,\"#7201a8\"],[0.3333333333333333,\"#9c179e\"],[0.4444444444444444,\"#bd3786\"],[0.5555555555555556,\"#d8576b\"],[0.6666666666666666,\"#ed7953\"],[0.7777777777777778,\"#fb9f3a\"],[0.8888888888888888,\"#fdca26\"],[1.0,\"#f0f921\"]],\"sequentialminus\":[[0.0,\"#0d0887\"],[0.1111111111111111,\"#46039f\"],[0.2222222222222222,\"#7201a8\"],[0.3333333333333333,\"#9c179e\"],[0.4444444444444444,\"#bd3786\"],[0.5555555555555556,\"#d8576b\"],[0.6666666666666666,\"#ed7953\"],[0.7777777777777778,\"#fb9f3a\"],[0.8888888888888888,\"#fdca26\"],[1.0,\"#f0f921\"]],\"diverging\":[[0,\"#8e0152\"],[0.1,\"#c51b7d\"],[0.2,\"#de77ae\"],[0.3,\"#f1b6da\"],[0.4,\"#fde0ef\"],[0.5,\"#f7f7f7\"],[0.6,\"#e6f5d0\"],[0.7,\"#b8e186\"],[0.8,\"#7fbc41\"],[0.9,\"#4d9221\"],[1,\"#276419\"]]},\"xaxis\":{\"gridcolor\":\"white\",\"linecolor\":\"white\",\"ticks\":\"\",\"title\":{\"standoff\":15},\"zerolinecolor\":\"white\",\"automargin\":true,\"zerolinewidth\":2},\"yaxis\":{\"gridcolor\":\"white\",\"linecolor\":\"white\",\"ticks\":\"\",\"title\":{\"standoff\":15},\"zerolinecolor\":\"white\",\"automargin\":true,\"zerolinewidth\":2},\"scene\":{\"xaxis\":{\"backgroundcolor\":\"#E5ECF6\",\"gridcolor\":\"white\",\"linecolor\":\"white\",\"showbackground\":true,\"ticks\":\"\",\"zerolinecolor\":\"white\",\"gridwidth\":2},\"yaxis\":{\"backgroundcolor\":\"#E5ECF6\",\"gridcolor\":\"white\",\"linecolor\":\"white\",\"showbackground\":true,\"ticks\":\"\",\"zerolinecolor\":\"white\",\"gridwidth\":2},\"zaxis\":{\"backgroundcolor\":\"#E5ECF6\",\"gridcolor\":\"white\",\"linecolor\":\"white\",\"showbackground\":true,\"ticks\":\"\",\"zerolinecolor\":\"white\",\"gridwidth\":2}},\"shapedefaults\":{\"line\":{\"color\":\"#2a3f5f\"}},\"annotationdefaults\":{\"arrowcolor\":\"#2a3f5f\",\"arrowhead\":0,\"arrowwidth\":1},\"geo\":{\"bgcolor\":\"white\",\"landcolor\":\"#E5ECF6\",\"subunitcolor\":\"white\",\"showland\":true,\"showlakes\":true,\"lakecolor\":\"white\"},\"title\":{\"x\":0.05},\"mapbox\":{\"style\":\"light\"}}},\"xaxis\":{\"anchor\":\"y\",\"domain\":[0.0,0.94],\"tickmode\":\"array\",\"title\":{\"text\":\"\"},\"showgrid\":false,\"zeroline\":false,\"showline\":true,\"linewidth\":2,\"linecolor\":\"black\"},\"yaxis\":{\"anchor\":\"x\",\"domain\":[0.0,1.0],\"showgrid\":false,\"title\":{},\"zeroline\":false,\"showline\":true,\"linewidth\":2,\"linecolor\":\"black\"},\"yaxis2\":{\"anchor\":\"x\",\"overlaying\":\"y\",\"side\":\"right\",\"showgrid\":false,\"zeroline\":false,\"showline\":true,\"linewidth\":2,\"linecolor\":\"black\"},\"title\":{\"text\":\"Total Utility Cost (RM)\",\"x\":0.5},\"font\":{\"family\":\"Helvetica\",\"size\":10},\"plot_bgcolor\":\"rgba(0,0,0,0)\",\"showlegend\":false,\"height\":350},                        {\"responsive\": true}                    ).then(function(){\n",
       "                            \n",
       "var gd = document.getElementById('22c9bde3-1bee-4305-8723-c003983c173f');\n",
       "var x = new MutationObserver(function (mutations, observer) {{\n",
       "        var display = window.getComputedStyle(gd).display;\n",
       "        if (!display || display === 'none') {{\n",
       "            console.log([gd, 'removed!']);\n",
       "            Plotly.purge(gd);\n",
       "            observer.disconnect();\n",
       "        }}\n",
       "}});\n",
       "\n",
       "// Listen for the removal of the full notebook cells\n",
       "var notebookContainer = gd.closest('#notebook-container');\n",
       "if (notebookContainer) {{\n",
       "    x.observe(notebookContainer, {childList: true});\n",
       "}}\n",
       "\n",
       "// Listen for the clearing of the current output cell\n",
       "var outputEl = gd.closest('.output');\n",
       "if (outputEl) {{\n",
       "    x.observe(outputEl, {childList: true});\n",
       "}}\n",
       "\n",
       "                        })                };                });            </script>        </div>"
      ]
     },
     "metadata": {},
     "output_type": "display_data"
    }
   ],
   "source": [
    "fig_2020 = make_subplots(shared_xaxes=True, specs=[[{'secondary_y': True}]])\n",
    "fig_2020.add_trace(go.Bar(y = df_ecost_2020,\n",
    "                          x = ['January','February','March','April','May','June','July',\n",
    "                              'August','September','October','November','December'], name=''))\n",
    "fig_2020.update_layout(title_text='Total Utility Cost (RM)',title_x=0.5,\n",
    "                font=dict(family=\"Helvetica\", size=10),xaxis=dict(tickmode=\"array\"),plot_bgcolor=\"rgba(0,0,0,0)\",yaxis=(dict(showgrid=False)),\n",
    "                yaxis_title=None,showlegend=False, height=350)\n",
    "fig_2020.update_annotations(font=dict(family=\"Helvetica\", size=10))\n",
    "fig_2020.update_xaxes(title_text='', showgrid=False, zeroline=False, showline=True, linewidth=2, linecolor='black')\n",
    "fig_2020.update_yaxes(showgrid=False, zeroline=False, showline=True, linewidth=2, linecolor='black')\n",
    "fig_2020"
   ]
  },
  {
   "cell_type": "code",
   "execution_count": null,
   "id": "ca885200",
   "metadata": {},
   "outputs": [],
   "source": []
  }
 ],
 "metadata": {
  "kernelspec": {
   "display_name": "Python 3 (ipykernel)",
   "language": "python",
   "name": "python3"
  },
  "language_info": {
   "codemirror_mode": {
    "name": "ipython",
    "version": 3
   },
   "file_extension": ".py",
   "mimetype": "text/x-python",
   "name": "python",
   "nbconvert_exporter": "python",
   "pygments_lexer": "ipython3",
   "version": "3.9.7"
  }
 },
 "nbformat": 4,
 "nbformat_minor": 5
}

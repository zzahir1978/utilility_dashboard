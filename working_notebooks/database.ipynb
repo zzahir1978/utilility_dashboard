{
 "cells": [
  {
   "cell_type": "code",
   "execution_count": 1,
   "id": "30413aa4",
   "metadata": {},
   "outputs": [],
   "source": [
    "from deta import Deta\n",
    "import pandas as pd\n",
    "import json\n",
    "from pandas import json_normalize\n",
    "from collections import Counter\n",
    "import plotly.graph_objects as go               # pip install plotly\n",
    "import plotly.express as px                     # pip install plotly-express\n",
    "from plotly.subplots import make_subplots"
   ]
  },
  {
   "cell_type": "code",
   "execution_count": 2,
   "id": "bdace43d",
   "metadata": {},
   "outputs": [],
   "source": [
    "DETA_KEY = \"c0jo61nr_BhSm5qHprUP75vRSdEmumYfoS1KMCtQW\"\n",
    "\n",
    "# Initialize with a project key\n",
    "deta = Deta(DETA_KEY)\n",
    "\n",
    "# This is how to create/connect a database\n",
    "db = deta.Base(\"utilities_reports\")"
   ]
  },
  {
   "cell_type": "code",
   "execution_count": 3,
   "id": "d65bd157",
   "metadata": {},
   "outputs": [],
   "source": [
    "def insert_period(period, e_usages, e_costs, w_usages, w_costs, digi_zahirs, digi_anis, \n",
    "                  streamyxs, comment):\n",
    "    \"\"\"Returns the user on a successful user creation, otherwise raises and error\"\"\"\n",
    "    return db.put({\"key\": period, \"e_usage\": e_usages, \"e_cost\": e_costs, \n",
    "                   \"w_usage\": w_usages, \"w_cost\": w_costs, \"digi_zahir\": digi_zahirs, \n",
    "                   \"digi_ani\": digi_anis, \"streamyx\": streamyxs, \"comment\": comment})\n",
    "\n",
    "def fetch_all_periods():\n",
    "    \"\"\"Returns a dict of all periods\"\"\"\n",
    "    res = db.fetch()\n",
    "    return res.items\n",
    "\n",
    "\n",
    "def get_period(period):\n",
    "    \"\"\"If not found, the function will return None\"\"\"\n",
    "    return db.get(period)"
   ]
  },
  {
   "cell_type": "code",
   "execution_count": 6,
   "id": "b532ec9b",
   "metadata": {},
   "outputs": [],
   "source": [
    "# Example Data\n",
    "#period = \"2022_July\"\n",
    "#comment = \"\"\n",
    "#e_usages = {\"kWh\": 340}\n",
    "#e_costs = {\"RM_e\": 92.40}\n",
    "#w_usages = {\"m3\": 30}\n",
    "#w_costs = {\"RM_w\": 10.30}\n",
    "#digi_zahirs = {\"RM_d1\": 40}\n",
    "#digi_anis = {\"RM_d2\": 20}\n",
    "#streamyxs = {\"RM_s\": 147.35}\n",
    "#insert_period(period, e_usages, e_costs, w_usages, w_costs, digi_zahirs, digi_anis, streamyxs, comment)"
   ]
  },
  {
   "cell_type": "code",
   "execution_count": null,
   "id": "3eb09e20",
   "metadata": {},
   "outputs": [],
   "source": [
    "r = db.get('2022_January').values()\n",
    "r"
   ]
  },
  {
   "cell_type": "code",
   "execution_count": null,
   "id": "f3153391",
   "metadata": {},
   "outputs": [],
   "source": [
    "#total_e_usage = sum([sum(entry['e_usage'].values()) for entry in entries])\n",
    "#total_e_cost = sum([sum(entry['e_cost'].values()) for entry in entries])\n",
    "#total_w_usage = sum([sum(entry['w_usage'].values()) for entry in entries])\n",
    "#total_w_cost = sum([sum(entry['w_cost'].values()) for entry in entries])"
   ]
  },
  {
   "cell_type": "code",
   "execution_count": null,
   "id": "b037ce91",
   "metadata": {},
   "outputs": [],
   "source": [
    "entries = fetch_all_periods()\n",
    "df = json.dumps(entries)\n",
    "df = pd.read_json(df)\n",
    "df['key'] = df['key'].str.replace('_','/')\n",
    "#df['key'] = df['key'].str.replace('_',' ')\n",
    "#df_1 = df['key'].str.split(' ', 1, expand=True)\n",
    "#df = pd.concat([df,df_1],axis=1)\n",
    "#df = df[['digi_ani','digi_zahir','e_cost','e_usage','streamyx','w_cost','w_usage',0,1]]\n",
    "#df = df.rename(columns={0:'year',1:'month'})\n",
    "#df_2023 = df[df.year == '2023']\n",
    "#df_2022 = df[df.year == '2022']\n",
    "#df_2022\n",
    "df"
   ]
  },
  {
   "cell_type": "code",
   "execution_count": null,
   "id": "8d85cefe",
   "metadata": {},
   "outputs": [],
   "source": [
    "df['key']= pd.to_datetime(df['key'])\n",
    "df_2020 = df[(df['key'] >= \"2020-01-01\") & (df['key'] <=\"2020-12-01\")]\n",
    "df_2020 = df_2020.sort_values(by='key')\n",
    "df_2020"
   ]
  },
  {
   "cell_type": "code",
   "execution_count": null,
   "id": "5a8f64fe",
   "metadata": {},
   "outputs": [],
   "source": [
    "#df_ecost_2020 = df_2020['e_cost']\n",
    "#df_ecost_2020"
   ]
  },
  {
   "cell_type": "code",
   "execution_count": null,
   "id": "dac33a6a",
   "metadata": {},
   "outputs": [],
   "source": [
    "#for key, value in df_ecost_2020.items():\n",
    "    #print(key, value)"
   ]
  },
  {
   "cell_type": "code",
   "execution_count": null,
   "id": "ef60dd78",
   "metadata": {},
   "outputs": [],
   "source": [
    "df_ecost_2020 = df_2020['e_cost'].map(Counter).groupby(df_2020['key']).sum().reset_index()\n",
    "df_ecost_2020 = df_ecost_2020['e_cost'].apply(lambda x: x.get('RM_e')).dropna()\n",
    "print(df_ecost_2020.sum())\n",
    "df_ecost_2020"
   ]
  },
  {
   "cell_type": "code",
   "execution_count": null,
   "id": "fe3e1098",
   "metadata": {},
   "outputs": [],
   "source": [
    "fig_2020 = make_subplots(shared_xaxes=True, specs=[[{'secondary_y': True}]])\n",
    "fig_2020.add_trace(go.Bar(y = df_ecost_2020,\n",
    "                          x = ['January','February','March','April','May','June','July',\n",
    "                              'August','September','October','November','December'], name=''))\n",
    "fig_2020.update_layout(title_text='Total Utility Cost (RM)',title_x=0.5,\n",
    "                font=dict(family=\"Helvetica\", size=10),xaxis=dict(tickmode=\"array\"),plot_bgcolor=\"rgba(0,0,0,0)\",yaxis=(dict(showgrid=False)),\n",
    "                yaxis_title=None,showlegend=False, height=350)\n",
    "fig_2020.update_annotations(font=dict(family=\"Helvetica\", size=10))\n",
    "fig_2020.update_xaxes(title_text='', showgrid=False, zeroline=False, showline=True, linewidth=2, linecolor='black')\n",
    "fig_2020.update_yaxes(showgrid=False, zeroline=False, showline=True, linewidth=2, linecolor='black')\n",
    "fig_2020"
   ]
  },
  {
   "cell_type": "code",
   "execution_count": null,
   "id": "ca885200",
   "metadata": {},
   "outputs": [],
   "source": []
  }
 ],
 "metadata": {
  "kernelspec": {
   "display_name": "Python 3 (ipykernel)",
   "language": "python",
   "name": "python3"
  },
  "language_info": {
   "codemirror_mode": {
    "name": "ipython",
    "version": 3
   },
   "file_extension": ".py",
   "mimetype": "text/x-python",
   "name": "python",
   "nbconvert_exporter": "python",
   "pygments_lexer": "ipython3",
   "version": "3.9.7"
  }
 },
 "nbformat": 4,
 "nbformat_minor": 5
}
